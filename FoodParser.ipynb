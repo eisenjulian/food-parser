{
 "cells": [
  {
   "cell_type": "code",
   "execution_count": 1,
   "metadata": {
    "collapsed": false
   },
   "outputs": [
    {
     "name": "stdout",
     "output_type": "stream",
     "text": [
      "[f (a), c (carne), : (.), users (a), julian (a), appdata (a), roaming (a), jupyter (a), runtime (a), kernel (a), f8b4b6b2 (a), dded (a), 423f (a), 85f8 (a), 9d397c656131 (a), . (.), json (a),  (end)]\n",
      "-f c:\\users\\julian\\appdata\\roaming\\jupyter\\runtime\\kernel-f8b4b6b2-dded-423f-85f8-9d397c656131 . json\n",
      "   <>\n",
      "   Cannot determine count\n",
      "   Likely canidate(s):\n",
      "   Empanada de carne suave\n",
      "\n",
      "una muza y una caprese\n",
      "    <  >\n",
      "    Count is 1\n",
      "    Likely canidate(s):\n",
      "    Pizza de muzzarella\n",
      "\n",
      "               <     >\n",
      "               Count is 1\n",
      "               Likely canidate(s):\n",
      "               Empanada de caprese\n",
      "\n"
     ]
    }
   ],
   "source": [
    "# -*- coding: utf-8 -*-\n",
    "from item_parser import *\n",
    "sentence = \"una muza y una caprese\"\n",
    "sent, tokens, parsed_items = parse(sentence)\n",
    "print(sent)\n",
    "for item in parsed_items:\n",
    "    print(item)"
   ]
  },
  {
   "cell_type": "code",
   "execution_count": null,
   "metadata": {
    "collapsed": true
   },
   "outputs": [],
   "source": []
  }
 ],
 "metadata": {
  "kernelspec": {
   "display_name": "Python 3",
   "language": "python",
   "name": "python3"
  },
  "language_info": {
   "codemirror_mode": {
    "name": "ipython",
    "version": 3
   },
   "file_extension": ".py",
   "mimetype": "text/x-python",
   "name": "python",
   "nbconvert_exporter": "python",
   "pygments_lexer": "ipython3",
   "version": "3.5.1"
  }
 },
 "nbformat": 4,
 "nbformat_minor": 0
}
